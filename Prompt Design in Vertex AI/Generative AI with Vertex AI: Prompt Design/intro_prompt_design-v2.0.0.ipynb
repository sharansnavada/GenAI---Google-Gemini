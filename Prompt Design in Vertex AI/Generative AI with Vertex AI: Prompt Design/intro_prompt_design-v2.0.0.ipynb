{
 "cells": [
  {
   "cell_type": "code",
   "execution_count": 11,
   "metadata": {
    "id": "ur8xi4C7S06n",
    "tags": []
   },
   "outputs": [
    {
     "name": "stdout",
     "output_type": "stream",
     "text": [
      "Note: you may need to restart the kernel to use updated packages.\n"
     ]
    },
    {
     "data": {
      "text/markdown": [
       "Sentiment: positive\n"
      ],
      "text/plain": [
       "<IPython.core.display.Markdown object>"
      ]
     },
     "metadata": {},
     "output_type": "display_data"
    }
   ],
   "source": [
    "# Copyright 2024 Google LLC\n",
    "#\n",
    "# Licensed under the Apache License, Version 2.0 (the \"License\");\n",
    "# you may not use this file except in compliance with the License.\n",
    "# You may obtain a copy of the License at\n",
    "#\n",
    "#     https://www.apache.org/licenses/LICENSE-2.0\n",
    "#\n",
    "# Unless required by applicable law or agreed to in writing, software\n",
    "# distributed under the License is distributed on an \"AS IS\" BASIS,\n",
    "# WITHOUT WARRANTIES OR CONDITIONS OF ANY KIND, either express or implied.\n",
    "# See the License for the specific language governing permissions and\n",
    "# limitations under the License.\n",
    "\n",
    "%pip install --upgrade --quiet google-genai\n",
    "\n",
    "import IPython\n",
    "\n",
    "from IPython.display import Markdown, display\n",
    "from google import genai\n",
    "from google.genai.types import GenerateContentConfig\n",
    "\n",
    "# Define project information\n",
    "PROJECT_ID = \"qwiklabs-gcp-02-7182f34d586f\"  # @param {type:\"string\"}\n",
    "LOCATION = \"us-east1\"  # @param {type:\"string\"}\n",
    "\n",
    "# Create the API client\n",
    "from google import genai\n",
    "client = genai.Client(vertexai=True, project=PROJECT_ID, location=LOCATION)\n",
    "\n",
    "\n",
    "MODEL_ID = \"gemini-2.0-flash-001\"  # @param {type: \"string\"}\n",
    "\n",
    "# app = IPython.Application.instance()\n",
    "# app.kernel.do_shutdown(True)\n",
    "\n",
    "generation_config = GenerateContentConfig(temperature=1.0)\n",
    "\n",
    "chat = client.chats.create(\n",
    "    model=MODEL_ID,\n",
    "    config=GenerateContentConfig(\n",
    "        system_instruction=[\n",
    "            \"Hello! You are an AI chatbot for a travel web site.\",\n",
    "            \"Your mission is to provide helpful queries for travelers.\",\n",
    "            \"Remember that before you answer a question, you must check to see if it complies with your mission.\",\n",
    "            \"If not, you can say, Sorry I can't answer that question.\",\n",
    "        ]\n",
    "    ),\n",
    ")\n",
    "\n",
    "prompt = \"\"\"Decide whether a Tweet's sentiment is positive, neutral, or negative.\n",
    "\n",
    "Tweet: I loved the new YouTube video you made!\n",
    "Sentiment: positive\n",
    "\n",
    "Tweet: That was awful. Super boring 😠\n",
    "Sentiment: negative\n",
    "\n",
    "Tweet: Something surprised me about this video - it was actually original. It was not the same old recycled stuff that I always see. Watch it - you will not regret it.\n",
    "Sentiment:\n",
    "\"\"\"\n",
    "\n",
    "response = client.models.generate_content(model=MODEL_ID, contents=prompt)\n",
    "display(Markdown(response.text))"
   ]
  },
  {
   "cell_type": "markdown",
   "metadata": {
    "id": "JAPoU8Sm5E6e"
   },
   "source": [
    "# Prompt Design - Best Practices\n",
    "\n",
    "<table align=\"left\">\n",
    "  <td style=\"text-align: center\">\n",
    "    <a href=\"https://colab.research.google.com/github/GoogleCloudPlatform/generative-ai/blob/main/gemini/prompts/intro_prompt_design.ipynb\">\n",
    "      <img src=\"https://cloud.google.com/ml-engine/images/colab-logo-32px.png\" alt=\"Google Colaboratory logo\"><br> Open in Colab\n",
    "    </a>\n",
    "  </td>\n",
    "  <td style=\"text-align: center\">\n",
    "    <a href=\"https://console.cloud.google.com/vertex-ai/colab/import/https:%2F%2Fraw.githubusercontent.com%2FGoogleCloudPlatform%2Fgenerative-ai%2Fmain%2Fgemini%2Fprompts%2Fintro_prompt_design.ipynb\">\n",
    "      <img width=\"32px\" src=\"https://lh3.googleusercontent.com/JmcxdQi-qOpctIvWKgPtrzZdJJK-J3sWE1RsfjZNwshCFgE_9fULcNpuXYTilIR2hjwN\" alt=\"Google Cloud Colab Enterprise logo\"><br> Open in Colab Enterprise\n",
    "    </a>\n",
    "  </td>    \n",
    "  <td style=\"text-align: center\">\n",
    "    <a href=\"https://console.cloud.google.com/vertex-ai/workbench/deploy-notebook?download_url=https://raw.githubusercontent.com/GoogleCloudPlatform/generative-ai/main/gemini/prompts/intro_prompt_design.ipynb\">\n",
    "      <img src=\"https://lh3.googleusercontent.com/UiNooY4LUgW_oTvpsNhPpQzsstV5W8F7rYgxgGBD85cWJoLmrOzhVs_ksK_vgx40SHs7jCqkTkCk=e14-rj-sc0xffffff-h130-w32\" alt=\"Vertex AI logo\"><br> Open in Workbench\n",
    "    </a>\n",
    "  </td>\n",
    "  <td style=\"text-align: center\">\n",
    "    <a href=\"https://github.com/GoogleCloudPlatform/generative-ai/blob/main/gemini/prompts/intro_prompt_design.ipynb\">\n",
    "      <img src=\"https://cloud.google.com/ml-engine/images/github-logo-32px.png\" alt=\"GitHub logo\"><br> View on GitHub\n",
    "    </a>\n",
    "  </td>\n",
    "  <td style=\"text-align: center\">\n",
    "    <a href=\"https://goo.gle/4fWHlze\">\n",
    "      <img width=\"32px\" src=\"https://cdn.qwiklabs.com/assets/gcp_cloud-e3a77215f0b8bfa9b3f611c0d2208c7e8708ed31.svg\" alt=\"Google Cloud logo\"><br> Open in  Cloud Skills Boost\n",
    "    </a>\n",
    "  </td>\n",
    "</table>\n",
    "\n",
    "<div style=\"clear: both;\"></div>\n",
    "\n",
    "<b>Share to:</b>\n",
    "\n",
    "<a href=\"https://www.linkedin.com/sharing/share-offsite/?url=https%3A//github.com/GoogleCloudPlatform/generative-ai/blob/main/gemini/prompts/intro_prompt_design.ipynb\" target=\"_blank\">\n",
    "  <img width=\"20px\" src=\"https://upload.wikimedia.org/wikipedia/commons/8/81/LinkedIn_icon.svg\" alt=\"LinkedIn logo\">\n",
    "</a>\n",
    "\n",
    "<a href=\"https://bsky.app/intent/compose?text=https%3A//github.com/GoogleCloudPlatform/generative-ai/blob/main/gemini/prompts/intro_prompt_design.ipynb\" target=\"_blank\">\n",
    "  <img width=\"20px\" src=\"https://upload.wikimedia.org/wikipedia/commons/7/7a/Bluesky_Logo.svg\" alt=\"Bluesky logo\">\n",
    "</a>\n",
    "\n",
    "<a href=\"https://twitter.com/intent/tweet?url=https%3A//github.com/GoogleCloudPlatform/generative-ai/blob/main/gemini/prompts/intro_prompt_design.ipynb\" target=\"_blank\">\n",
    "  <img width=\"20px\" src=\"https://upload.wikimedia.org/wikipedia/commons/5/5a/X_icon_2.svg\" alt=\"X logo\">\n",
    "</a>\n",
    "\n",
    "<a href=\"https://reddit.com/submit?url=https%3A//github.com/GoogleCloudPlatform/generative-ai/blob/main/gemini/prompts/intro_prompt_design.ipynb\" target=\"_blank\">\n",
    "  <img width=\"20px\" src=\"https://redditinc.com/hubfs/Reddit%20Inc/Brand/Reddit_Logo.png\" alt=\"Reddit logo\">\n",
    "</a>\n",
    "\n",
    "<a href=\"https://www.facebook.com/sharer/sharer.php?u=https%3A//github.com/GoogleCloudPlatform/generative-ai/blob/main/gemini/prompts/intro_prompt_design.ipynb\" target=\"_blank\">\n",
    "  <img width=\"20px\" src=\"https://upload.wikimedia.org/wikipedia/commons/5/51/Facebook_f_logo_%282019%29.svg\" alt=\"Facebook logo\">\n",
    "</a>            "
   ]
  },
  {
   "cell_type": "markdown",
   "metadata": {
    "id": "84f0f73a0f76"
   },
   "source": [
    "| Authors |\n",
    "| --- |\n",
    "| [Polong Lin](https://github.com/polong-lin) |\n",
    "| [Karl Weinmeister](https://github.com/kweinmeister) |"
   ]
  },
  {
   "cell_type": "markdown",
   "metadata": {
    "id": "tvgnzT1CKxrO"
   },
   "source": [
    "## Overview\n",
    "\n",
    "This notebook covers the essentials of prompt engineering, including some best practices.\n",
    "\n",
    "Learn more about prompt design in the [official documentation](https://cloud.google.com/vertex-ai/docs/generative-ai/text/text-overview).\n",
    "\n",
    "In this notebook, you learn best practices around prompt engineering -- how to design prompts to improve the quality of your responses.\n",
    "\n",
    "This notebook covers the following best practices for prompt engineering:\n",
    "\n",
    "- Be concise\n",
    "- Be specific and well-defined\n",
    "- Ask one task at a time\n",
    "- Turn generative tasks into classification tasks\n",
    "- Improve response quality by including examples"
   ]
  },
  {
   "cell_type": "markdown",
   "metadata": {
    "id": "61RBz8LLbxCR"
   },
   "source": [
    "## Getting Started"
   ]
  },
  {
   "cell_type": "markdown",
   "metadata": {
    "id": "No17Cw5hgx12"
   },
   "source": [
    "### Install Google Gen AI SDK\n"
   ]
  },
  {
   "cell_type": "code",
   "execution_count": null,
   "metadata": {
    "id": "tFy3H3aPgx12"
   },
   "outputs": [],
   "source": [
    "%pip install --upgrade --quiet google-genai"
   ]
  },
  {
   "cell_type": "markdown",
   "metadata": {},
   "source": [
    "### Restart runtime\n",
    "\n",
    "To use the newly installed packages in this Jupyter runtime, you must restart the runtime. You can do this by running the cell below, which will restart the current kernel."
   ]
  },
  {
   "cell_type": "code",
   "execution_count": null,
   "metadata": {},
   "outputs": [],
   "source": [
    "import IPython\n",
    "\n",
    "app = IPython.Application.instance()\n",
    "app.kernel.do_shutdown(True)"
   ]
  },
  {
   "cell_type": "markdown",
   "metadata": {},
   "source": [
    "<div class=\"alert alert-block alert-warning\">\n",
    "<b>⚠️ The kernel is going to restart. Please wait until it is finished before continuing to the next step. ⚠️</b>\n",
    "</div>\n"
   ]
  },
  {
   "cell_type": "markdown",
   "metadata": {
    "id": "dmWOrTJ3gx13"
   },
   "source": [
    "### Authenticate your notebook environment (Colab only)\n",
    "\n",
    "Authenticate your environment on Google Colab.\n"
   ]
  },
  {
   "cell_type": "code",
   "execution_count": null,
   "metadata": {
    "id": "NyKGtVQjgx13"
   },
   "outputs": [],
   "source": [
    "import sys\n",
    "\n",
    "if \"google.colab\" in sys.modules:\n",
    "    from google.colab import auth\n",
    "\n",
    "    auth.authenticate_user()"
   ]
  },
  {
   "cell_type": "markdown",
   "metadata": {
    "id": "06489bd14f16"
   },
   "source": [
    "### Import libraries\n"
   ]
  },
  {
   "cell_type": "code",
   "execution_count": null,
   "metadata": {
    "id": "154137022fb6"
   },
   "outputs": [],
   "source": [
    "from IPython.display import Markdown, display\n",
    "from google import genai\n",
    "from google.genai.types import GenerateContentConfig"
   ]
  },
  {
   "cell_type": "markdown",
   "metadata": {
    "id": "DF4l8DTdWgPY"
   },
   "source": [
    "### Set Google Cloud project information and create client\n",
    "\n",
    "To get started using Vertex AI, you must have an existing Google Cloud project and [enable the Vertex AI API](https://console.cloud.google.com/flows/enableapi?apiid=aiplatform.googleapis.com).\n",
    "\n",
    "Learn more about [setting up a project and a development environment](https://cloud.google.com/vertex-ai/docs/start/cloud-environment).\n",
    "\n",
    "Initialize the Gen AI SDK for Python for your project."
   ]
  },
  {
   "cell_type": "code",
   "execution_count": null,
   "metadata": {
    "id": "Nqwi-5ufWp_B"
   },
   "outputs": [],
   "source": [
    "# Define project information\n",
    "PROJECT_ID = \"[your-project-id]\"  # @param {type:\"string\"}\n",
    "LOCATION = \"[your-region]\"  # @param {type:\"string\"}\n",
    "\n",
    "# Create the API client\n",
    "from google import genai\n",
    "client = genai.Client(vertexai=True, project=PROJECT_ID, location=LOCATION)"
   ]
  },
  {
   "cell_type": "markdown",
   "metadata": {
    "id": "OnFPpCRtXRl4"
   },
   "source": [
    "### Load model\n",
    "\n",
    "Learn more about all [Gemini models on Vertex AI](https://cloud.google.com/vertex-ai/generative-ai/docs/learn/models#gemini-models)."
   ]
  },
  {
   "cell_type": "code",
   "execution_count": null,
   "metadata": {
    "id": "IQYu_9SvXQah"
   },
   "outputs": [],
   "source": [
    "MODEL_ID = \"gemini-2.0-flash-001\"  # @param {type: \"string\"}"
   ]
  },
  {
   "cell_type": "markdown",
   "metadata": {
    "id": "cVOtUNJ5X0PY"
   },
   "source": [
    "## Prompt engineering best practices"
   ]
  },
  {
   "cell_type": "markdown",
   "metadata": {
    "id": "uv_e0fEPX60q"
   },
   "source": [
    "Prompt engineering is all about how to design your prompts so that the response is what you were indeed hoping to see.\n",
    "\n",
    "The idea of using \"unfancy\" prompts is to minimize the noise in your prompt to reduce the possibility of the LLM misinterpreting the intent of the prompt. Below are a few guidelines on how to engineer \"unfancy\" prompts.\n",
    "\n",
    "In this section, you'll cover the following best practices when engineering prompts:\n",
    "\n",
    "* Be concise\n",
    "* Be specific, and well-defined\n",
    "* Ask one task at a time\n",
    "* Improve response quality by including examples\n",
    "* Turn generative tasks to classification tasks to improve safety"
   ]
  },
  {
   "cell_type": "markdown",
   "metadata": {
    "id": "0pY4XX0OX9_Y"
   },
   "source": [
    "### Be concise"
   ]
  },
  {
   "cell_type": "markdown",
   "metadata": {
    "id": "xlRpxyxGYA1K"
   },
   "source": [
    "🛑 Not recommended. The prompt below is unnecessarily verbose."
   ]
  },
  {
   "cell_type": "code",
   "execution_count": 12,
   "metadata": {
    "id": "YKV4G-CfXdbi",
    "tags": []
   },
   "outputs": [
    {
     "data": {
      "text/markdown": [
       "Okay, here are some name ideas for a dried flower shop, playing on different angles:\n",
       "\n",
       "**Emphasizing Preservation & Longevity:**\n",
       "\n",
       "*   **Everbloom:** Classic and elegant.\n",
       "*   **Lasting Petals:** Simple and descriptive.\n",
       "*   **Timeless Blooms:** Suggests enduring beauty.\n",
       "*   **The Preserved Petal:** Highlights the preservation process.\n",
       "*   **Eternal Flora:** A bit more dramatic.\n",
       "*   **Golden Harvest Florals:** Evokes a feeling of natural preservation.\n",
       "*   **Still Life Stems:** Refers to the art of still life paintings.\n",
       "*   **Keepsake Blossoms:** Suggests sentimental value.\n",
       "\n",
       "**Highlighting the Natural & Rustic:**\n",
       "\n",
       "*   **The Dried Stem:** Straightforward and earthy.\n",
       "*   **Wilted Grace:** A poetic contrast.\n",
       "*   **The Meadow's Memory:** Romantic and nature-inspired.\n",
       "*   **Sunbaked Botanicals:** Emphasizes the drying process.\n",
       "*   **Dust & Bloom:** A bit edgy, but memorable.\n",
       "*   **The Golden Field:** Suggests a natural, sun-drenched setting.\n",
       "*   **Rustic Stems:** Simple and emphasizes the style.\n",
       "\n",
       "**Emphasizing the Artistry & Uniqueness:**\n",
       "\n",
       "*   **The Dryad's Garden:** Mystical and nature-connected.\n",
       "*   **Fleurs Sechées:** French for \"dried flowers,\" sounds sophisticated.\n",
       "*   **The Still Room:** A historical reference to preserving herbs and flowers.\n",
       "*   **Botanical Echoes:** Suggests a lasting impression.\n",
       "*   **Petrified Petals:** A slightly bolder, artful name.\n",
       "*   **The Alchemist's Bloom:** Implies a transformation and a touch of magic.\n",
       "\n",
       "**Modern & Playful:**\n",
       "\n",
       "*   **Dry Spell:** Catchy and a bit cheeky.\n",
       "*   **The Dried Flower Bar:** Suggests a custom experience.\n",
       "*   **Bloom & Preserve:** Simple and action-oriented.\n",
       "*   **The Everlasting Bloom:** A bit more contemporary than \"Everbloom\".\n",
       "\n",
       "**Tips for Choosing:**\n",
       "\n",
       "*   **Consider your target audience:** Are you aiming for a sophisticated, modern, or rustic clientele?\n",
       "*   **Check for availability:** Make sure the name isn't already in use (especially locally) and that you can secure a website domain and social media handles.\n",
       "*   **Say it out loud:** Does the name sound good when spoken? Is it easy to pronounce and remember?\n",
       "*   **Get feedback:** Ask friends, family, or potential customers what they think of your top choices.\n",
       "\n",
       "I hope this gives you a good starting point! Good luck with your flower shop!\n"
      ],
      "text/plain": [
       "<IPython.core.display.Markdown object>"
      ]
     },
     "metadata": {},
     "output_type": "display_data"
    }
   ],
   "source": [
    "prompt = \"What do you think could be a good name for a flower shop that specializes in selling bouquets of dried flowers more than fresh flowers?\"\n",
    "\n",
    "response = client.models.generate_content(model=MODEL_ID, contents=prompt)\n",
    "display(Markdown(response.text))"
   ]
  },
  {
   "cell_type": "markdown",
   "metadata": {
    "id": "YrJexRHJYnmC"
   },
   "source": [
    "✅ Recommended. The prompt below is to the point and concise."
   ]
  },
  {
   "cell_type": "code",
   "execution_count": 13,
   "metadata": {
    "id": "VHetn9lCYrXB",
    "tags": []
   },
   "outputs": [
    {
     "data": {
      "text/markdown": [
       "Okay, here are some name suggestions for a dried flower shop, playing on different aspects like preservation, nature, artistry, and the overall aesthetic:\n",
       "\n",
       "**Emphasizing Preservation & Longevity:**\n",
       "\n",
       "*   Everbloom\n",
       "*   Lasting Petals\n",
       "*   The Preserved Petal\n",
       "*   Eternal Blooms\n",
       "*   Timeless Flora\n",
       "*   Enduring Blooms\n",
       "*   Forever Flowers\n",
       "*   Serene Stems\n",
       "*   The Dried Bouquet Co.\n",
       "*   Still Life Stems\n",
       "*   Amber Blooms\n",
       "*   Withered & Wonderful\n",
       "\n",
       "**Highlighting the Natural & Rustic:**\n",
       "\n",
       "*   Wildflower Wisp\n",
       "*   Harvest & Hues\n",
       "*   The Rustic Bloom\n",
       "*   Prairie Petals\n",
       "*   Fields of Forever\n",
       "*   Sunbaked Stems\n",
       "*   The Countryside Collection\n",
       "*   Wilted Wonders\n",
       "*   Root & Bloom Dry\n",
       "*   Petrichor Petals (Petrichor refers to the smell of rain on dry earth)\n",
       "\n",
       "**Focusing on Artistry & Design:**\n",
       "\n",
       "*   The Floral Alchemist\n",
       "*   Dried & Designed\n",
       "*   Botanical Artistry\n",
       "*   The Still Life Studio\n",
       "*   Golden Flora\n",
       "*   Floral Canvas\n",
       "*   Arrangements in Amber\n",
       "*   Petal Palette\n",
       "*   Dusty Bloom\n",
       "*   The Vintage Vase\n",
       "\n",
       "**More Modern & Boutique-Style Names:**\n",
       "\n",
       "*   Bloom & Brush\n",
       "*   The Dry Bar (playful)\n",
       "*   Arido (Spanish for dry/arid)\n",
       "*   The Floral Curator\n",
       "*   Stemm\n",
       "*   Golden Hour Florals\n",
       "*   The Dried Edit\n",
       "*   Cultivated Stems\n",
       "*   Auster Bloom\n",
       "\n",
       "**Tips for Choosing:**\n",
       "\n",
       "*   **Consider your target audience:** Are you aiming for a more rustic, vintage, or modern aesthetic?\n",
       "*   **Check for availability:** Make sure the name isn't already in use (business name, domain name, social media handles).\n",
       "*   **Say it out loud:** Does it roll off the tongue? Is it easy to remember?\n",
       "*   **Get feedback:** Ask friends and family what they think of your top choices.\n",
       "*   **Consider your brand identity:** Does the name reflect the overall vibe you want to create for your shop?\n",
       "\n",
       "I hope this gives you a great starting point! Good luck!\n"
      ],
      "text/plain": [
       "<IPython.core.display.Markdown object>"
      ]
     },
     "metadata": {},
     "output_type": "display_data"
    }
   ],
   "source": [
    "prompt = \"Suggest a name for a flower shop that sells bouquets of dried flowers\"\n",
    "\n",
    "response = client.models.generate_content(model=MODEL_ID, contents=prompt)\n",
    "display(Markdown(response.text))"
   ]
  },
  {
   "cell_type": "markdown",
   "metadata": {
    "id": "eXTAvdOHY0OC"
   },
   "source": [
    "### Be specific, and well-defined"
   ]
  },
  {
   "cell_type": "markdown",
   "metadata": {
    "id": "FTH4GEIgY1dp"
   },
   "source": [
    "Suppose that you want to brainstorm creative ways to describe Earth."
   ]
  },
  {
   "cell_type": "markdown",
   "metadata": {
    "id": "o5BmXBiGY4KC"
   },
   "source": [
    "🛑 The prompt below might be a bit too generic (which is certainly OK if you'd like to ask a generic question!)"
   ]
  },
  {
   "cell_type": "code",
   "execution_count": 14,
   "metadata": {
    "id": "eHBaMvv7Y6mR",
    "tags": []
   },
   "outputs": [
    {
     "data": {
      "text/markdown": [
       "Okay, let's dive into the wonderful world that is Earth! Here's a comprehensive overview:\n",
       "\n",
       "**Basics:**\n",
       "\n",
       "*   **Name:** Earth (also known as Terra)\n",
       "*   **Type:** Terrestrial planet (rocky)\n",
       "*   **Position in Solar System:** Third planet from the Sun\n",
       "*   **Diameter:** Approximately 12,742 kilometers (7,918 miles)\n",
       "*   **Mass:** Approximately 5.97 x 10^24 kilograms\n",
       "*   **Orbit:** Nearly circular orbit around the Sun\n",
       "*   **Rotation Period (Day):** Approximately 24 hours\n",
       "*   **Orbital Period (Year):** Approximately 365.25 days\n",
       "*   **Satellite(s):** One natural satellite – the Moon\n",
       "*   **Atmosphere:** Primarily nitrogen (about 78%) and oxygen (about 21%), with trace amounts of other gases like argon, carbon dioxide, and water vapor.\n",
       "*   **Surface Temperature:** Varies widely, but averages around 15°C (59°F).  The range can be from below -89°C (-128°F) to over 56°C (133°F).\n",
       "*   **Water:**  Abundant surface water in liquid form (oceans, lakes, rivers).\n",
       "*   **Life:** The only known planet to harbor life.\n",
       "\n",
       "**Internal Structure:**\n",
       "\n",
       "Earth has a layered structure:\n",
       "\n",
       "*   **Inner Core:** A solid sphere of iron and nickel under immense pressure and heat (around 5,200°C or 9,392°F).\n",
       "*   **Outer Core:** A liquid layer composed of iron and nickel that surrounds the inner core.  The movement of this molten iron generates Earth's magnetic field.\n",
       "*   **Mantle:** A thick, mostly solid layer of silicate rocks rich in iron and magnesium. It makes up about 84% of Earth's volume.  The mantle is not entirely solid; it has a semi-molten layer called the asthenosphere, upon which the tectonic plates move.\n",
       "*   **Crust:** The outermost solid layer of Earth, relatively thin compared to the other layers.  There are two types of crust:\n",
       "    *   **Oceanic Crust:** Thinner (5-10 km) and denser, composed mainly of basalt.\n",
       "    *   **Continental Crust:** Thicker (30-70 km) and less dense, composed mainly of granite.\n",
       "\n",
       "**Key Features and Processes:**\n",
       "\n",
       "*   **Plate Tectonics:** Earth's lithosphere (crust and upper mantle) is broken into large pieces called tectonic plates. These plates move slowly over the asthenosphere, interacting at their boundaries.  Plate tectonics is responsible for:\n",
       "    *   **Earthquakes:** Occur when plates suddenly slip past each other.\n",
       "    *   **Volcanoes:** Form when magma erupts onto the surface.\n",
       "    *   **Mountain Building:** Occurs when plates collide and buckle.\n",
       "    *   **Ocean Trenches:** Deep depressions in the ocean floor where one plate subducts (slides) beneath another.\n",
       "    *   **Continental Drift:** The slow movement of continents over geological time.\n",
       "*   **Magnetic Field:** Generated by the movement of molten iron in the outer core. The magnetic field protects Earth from harmful solar radiation.\n",
       "*   **Atmosphere:**  The gaseous envelope surrounding Earth.  It:\n",
       "    *   **Provides Oxygen:** Essential for most life forms.\n",
       "    *   **Regulates Temperature:** Through the greenhouse effect, trapping some of the Sun's heat.\n",
       "    *   **Protects from Radiation:** Absorbs harmful ultraviolet and X-ray radiation from the Sun.\n",
       "    *   **Facilitates Weather:**  Drives wind patterns, precipitation, and other weather phenomena.\n",
       "*   **Hydrosphere:** All the water on Earth, including oceans, lakes, rivers, ice, and groundwater. The hydrosphere plays a crucial role in:\n",
       "    *   **Climate Regulation:** Water has a high heat capacity, moderating temperature fluctuations.\n",
       "    *   **Erosion and Weathering:** Shaping the landscape.\n",
       "    *   **Life Support:**  Essential for all known life forms.\n",
       "*   **Biosphere:** All living organisms on Earth and their environments.  The biosphere interacts with the atmosphere, hydrosphere, and lithosphere in complex ways, influencing climate, nutrient cycles, and the composition of the planet.\n",
       "\n",
       "**Uniqueness of Earth:**\n",
       "\n",
       "Earth is unique in our solar system (as far as we know) because:\n",
       "\n",
       "*   **Liquid Water:** The presence of stable liquid water on the surface is crucial for life as we know it.\n",
       "*   **Oxygen-Rich Atmosphere:** The high concentration of oxygen in the atmosphere is a result of photosynthesis by plants and algae.\n",
       "*   **Plate Tectonics:** While some other celestial bodies may have some tectonic activity, Earth's robust plate tectonic system is unique and helps regulate the planet's temperature and chemistry.\n",
       "*   **Life:** The most significant aspect of Earth is the presence of diverse and abundant life forms.\n",
       "\n",
       "**Human Impact:**\n",
       "\n",
       "Human activities are having a significant impact on Earth's environment, including:\n",
       "\n",
       "*   **Climate Change:**  Burning fossil fuels releases greenhouse gases into the atmosphere, leading to a warming planet.\n",
       "*   **Pollution:**  Air and water pollution from industrial activities, agriculture, and waste disposal.\n",
       "*   **Deforestation:**  Clearing forests for agriculture and other purposes reduces biodiversity and contributes to climate change.\n",
       "*   **Overexploitation of Resources:**  Depletion of natural resources such as minerals, water, and forests.\n",
       "*   **Biodiversity Loss:** Extinction of plant and animal species due to habitat destruction, pollution, and climate change.\n",
       "\n",
       "**What We Can Do:**\n",
       "\n",
       "Understanding Earth's systems and the impact of human activities is crucial for developing sustainable practices and protecting our planet for future generations. This includes:\n",
       "\n",
       "*   **Reducing Greenhouse Gas Emissions:** Transitioning to renewable energy sources, improving energy efficiency, and adopting sustainable transportation practices.\n",
       "*   **Conserving Resources:** Reducing consumption, reusing materials, and recycling.\n",
       "*   **Protecting Biodiversity:** Conserving habitats, reducing pollution, and promoting sustainable agriculture.\n",
       "*   **Promoting Sustainable Development:**  Balancing economic growth with environmental protection and social equity.\n",
       "\n",
       "**In short, Earth is a dynamic and complex planet with a unique combination of features that make it habitable for life.  It's a place of incredible beauty and diversity, but it's also facing significant challenges due to human activities.  Understanding our planet and taking action to protect it is essential for ensuring a sustainable future.**\n"
      ],
      "text/plain": [
       "<IPython.core.display.Markdown object>"
      ]
     },
     "metadata": {},
     "output_type": "display_data"
    }
   ],
   "source": [
    "prompt = \"Tell me about Earth\"\n",
    "\n",
    "response = client.models.generate_content(model=MODEL_ID, contents=prompt)\n",
    "display(Markdown(response.text))"
   ]
  },
  {
   "cell_type": "markdown",
   "metadata": {
    "id": "4iyvEbteZnFL"
   },
   "source": [
    "✅ Recommended. The prompt below is specific and well-defined."
   ]
  },
  {
   "cell_type": "code",
   "execution_count": 15,
   "metadata": {
    "id": "JQ80z8urZnne",
    "tags": []
   },
   "outputs": [
    {
     "data": {
      "text/markdown": [
       "Okay, here's a list of things that make Earth unique compared to other planets we currently know of:\n",
       "\n",
       "**Essential for Life as We Know It:**\n",
       "\n",
       "*   **Liquid Water on the Surface:**  This is arguably the most significant.  Liquid water is essential for the types of life we understand.  While some moons (like Europa and Enceladus) may have subsurface oceans, Earth has a substantial amount of liquid water on its surface, directly exposed to the atmosphere and sunlight.\n",
       "*   **Oxygen-Rich Atmosphere:**  Earth's atmosphere is about 21% oxygen. This is a byproduct of life (photosynthesis) and is crucial for complex, multicellular life forms that rely on aerobic respiration.  No other planet in our solar system has a comparable oxygen concentration.\n",
       "*   **Life Itself:** This is the big one!  As far as we currently know, Earth is the only planet harboring life. The complexity and diversity of life on Earth are unparalleled in our current understanding of the universe.\n",
       "\n",
       "**Geological Activity and Structure:**\n",
       "\n",
       "*   **Plate Tectonics:** Earth is the only planet in our solar system with confirmed active plate tectonics.  This process is crucial for the carbon cycle, regulating the planet's temperature, and creating diverse landscapes. Plate tectonics also helps to recycle nutrients and maintain the long-term habitability of the planet.\n",
       "*   **Strong Magnetic Field:** Generated by the Earth's iron core, the magnetic field deflects harmful solar wind and cosmic radiation, protecting the atmosphere and life on the surface.  While other planets have magnetic fields, Earth's is particularly strong and stable.\n",
       "*   **Active Volcanism:** While other planets and moons have volcanoes (or had them in the past), Earth has ongoing and diverse volcanic activity. This volcanism plays a role in the carbon cycle and releases gases that contribute to the atmosphere.\n",
       "*   **Complex and Varied Geology:** The combination of plate tectonics, volcanism, erosion, and weathering has created incredibly diverse geological features: mountains, canyons, plains, volcanoes, glaciers, deserts, and more.\n",
       "\n",
       "**Orbital and Rotational Characteristics:**\n",
       "\n",
       "*   **Stable Axial Tilt:** Earth's axial tilt of about 23.5 degrees creates seasons.  The stability of this tilt (maintained by the Moon's gravitational influence) is crucial for relatively predictable and moderate climate patterns.  Large variations in axial tilt can lead to extreme climate swings.\n",
       "*   **Optimal Distance from the Sun:** Earth resides within the Sun's \"habitable zone\" (also called the Goldilocks zone), where temperatures are just right for liquid water to exist on the surface.\n",
       "\n",
       "**Atmospheric and Climate Features:**\n",
       "\n",
       "*   **Ozone Layer:** The ozone layer in Earth's stratosphere absorbs most of the Sun's harmful ultraviolet (UV) radiation, protecting life from its damaging effects.\n",
       "*   **Relatively Stable Climate (over long timescales):**  While Earth's climate has changed over geological time, it has remained relatively stable compared to the extremes experienced by some other planets.  This stability has allowed life to evolve and flourish.\n",
       "*   **Water Cycle:** The continuous circulation of water between the oceans, atmosphere, and land is a unique feature of Earth. This cycle is essential for distributing heat, weathering rocks, and transporting nutrients.\n",
       "\n",
       "**Other Contributing Factors:**\n",
       "\n",
       "*   **Presence of a Large Moon:**  The Moon plays a significant role in stabilizing Earth's axial tilt and influencing tides, both of which have impacts on the planet's climate and environment.\n",
       "*   **Carbon Cycle:** Earth has a complex carbon cycle that involves the atmosphere, oceans, land, and living organisms. This cycle helps to regulate the planet's temperature and maintain a stable climate.\n",
       "*   **Diversity of Ecosystems:** Earth boasts a wide range of ecosystems, from tropical rainforests to polar ice caps, each with its unique flora and fauna. This biodiversity is a testament to the planet's favorable conditions for life.\n",
       "\n",
       "**Important Considerations:**\n",
       "\n",
       "*   **We only know one life-bearing planet:**  It's crucial to remember that our understanding of what makes a planet habitable is largely based on Earth as a template. There may be other forms of life and other ways for planets to be habitable that we haven't yet discovered or even conceived of.\n",
       "*   **Ongoing Research:**  Our understanding of planetary science is constantly evolving. As we explore other planets and moons, we may discover features that challenge our current understanding of Earth's uniqueness.\n",
       "\n",
       "This list is not necessarily exhaustive, but it highlights the key factors that, as far as we know, make Earth a unique and special place in the solar system and, possibly, the universe.\n"
      ],
      "text/plain": [
       "<IPython.core.display.Markdown object>"
      ]
     },
     "metadata": {},
     "output_type": "display_data"
    }
   ],
   "source": [
    "prompt = \"Generate a list of ways that makes Earth unique compared to other planets\"\n",
    "\n",
    "response = client.models.generate_content(model=MODEL_ID, contents=prompt)\n",
    "display(Markdown(response.text))"
   ]
  },
  {
   "cell_type": "markdown",
   "metadata": {
    "id": "R5kmfZYHZsJ7"
   },
   "source": [
    "### Ask one task at a time"
   ]
  },
  {
   "cell_type": "markdown",
   "metadata": {
    "id": "rsAezxeYZuUN"
   },
   "source": [
    "🛑 Not recommended. The prompt below has two parts to the question that could be asked separately."
   ]
  },
  {
   "cell_type": "code",
   "execution_count": 18,
   "metadata": {
    "id": "ElywPXpuZtWf",
    "tags": []
   },
   "outputs": [
    {
     "data": {
      "text/markdown": [
       "Let's tackle these two questions separately:\n",
       "\n",
       "**Best Method of Boiling Water**\n",
       "\n",
       "There isn't a single \"best\" method, as it depends on your priorities:\n",
       "\n",
       "*   **Speed:**\n",
       "    *   **Electric Kettle:** Often the fastest, especially those designed for speed. They directly heat the water, minimizing energy loss.\n",
       "    *   **Induction Cooktop:** Very fast due to direct heating of the pot through electromagnetic induction.\n",
       "*   **Energy Efficiency:**\n",
       "    *   **Electric Kettle:** Usually efficient because they are designed to boil only the required amount of water and often have auto shut-off.\n",
       "    *   **Microwave:** *Can* be efficient if you're only heating a small amount of water, but can be less so for larger volumes. There is some debate about the safety of microwaving water in plastic containers, glass containers are recommended.\n",
       "*   **Convenience/Availability:**\n",
       "    *   **Stovetop (Gas or Electric):** Most people have a stove, so it's readily available.\n",
       "    *   **Microwave:** Convenient if you're already using it for something else.\n",
       "*   **Off-Grid:**\n",
       "    *   **Camping Stove (Propane, Butane, Wood-Burning):** Essential for boiling water while camping or when electricity is unavailable.\n",
       "    *   **Over a Fire:** A classic method, but requires more skill and safety precautions.\n",
       "\n",
       "**Here's a breakdown comparing a few common methods:**\n",
       "\n",
       "| Method        | Speed        | Efficiency   | Convenience  | Notes                                          |\n",
       "|---------------|-------------|-------------|---------------|-------------------------------------------------|\n",
       "| Electric Kettle | Very Fast   | High        | High          | Can only boil water, but does it well.          |\n",
       "| Induction Stove | Very Fast   | High        | Medium        | Requires compatible cookware.                   |\n",
       "| Gas Stove     | Medium       | Medium        | High          | May heat the kitchen more.                       |\n",
       "| Electric Stove| Medium       | Medium        | High          | Slower to respond to temperature changes.     |\n",
       "| Microwave      | Fast (small) | Variable    | High          | May not heat evenly, potential safety concerns with containers. |\n",
       "\n",
       "**In summary:** For most people, an **electric kettle is the \"best\" choice for boiling water quickly and efficiently for everyday use.** If you're cooking on the stovetop anyway, using a pot on the stove is a fine option.\n",
       "\n",
       "**Why is the Sky Blue?**\n",
       "\n",
       "The sky is blue due to a phenomenon called **Rayleigh scattering.** Here's a simplified explanation:\n",
       "\n",
       "1.  **Sunlight is White Light:** Sunlight is actually made up of all the colors of the rainbow.\n",
       "\n",
       "2.  **Atmosphere's Air Molecules:** The Earth's atmosphere contains tiny air molecules (mostly nitrogen and oxygen).\n",
       "\n",
       "3.  **Scattering of Light:** When sunlight enters the atmosphere, it collides with these air molecules. This collision causes the light to scatter in different directions.\n",
       "\n",
       "4.  **Blue Light Scatters More:** Blue and violet light have shorter wavelengths than other colors (like red and orange). Shorter wavelengths are scattered *more* effectively by the air molecules.\n",
       "\n",
       "5.  **We See Blue:** Because blue light is scattered more, it spreads out across the sky. This scattered blue light is what we see when we look up.\n",
       "\n",
       "**Why not violet?** While violet light is scattered even *more* than blue, there's less violet light in sunlight to begin with. Also, our eyes are more sensitive to blue than violet.\n",
       "\n",
       "**Therefore, the sky appears blue because blue light from the sun is scattered more by the Earth's atmosphere than other colors.**\n"
      ],
      "text/plain": [
       "<IPython.core.display.Markdown object>"
      ]
     },
     "metadata": {},
     "output_type": "display_data"
    }
   ],
   "source": [
    "prompt = \"What's the best method of boiling water and why is the sky blue?\"\n",
    "\n",
    "response = client.models.generate_content(model=MODEL_ID, contents=prompt)\n",
    "display(Markdown(response.text))"
   ]
  },
  {
   "cell_type": "markdown",
   "metadata": {
    "id": "ejzahazBZ8vk"
   },
   "source": [
    "✅ Recommended. The prompts below asks one task a time."
   ]
  },
  {
   "cell_type": "code",
   "execution_count": 19,
   "metadata": {
    "id": "C5ckp2F0Z_Ba",
    "tags": []
   },
   "outputs": [
    {
     "data": {
      "text/markdown": [
       "The \"best\" method of boiling water depends on your priorities and the context. Here's a breakdown of common methods and their pros and cons:\n",
       "\n",
       "**1. Electric Kettle:**\n",
       "\n",
       "*   **Pros:**\n",
       "    *   **Speed:** Generally the fastest method for boiling small to moderate amounts of water.\n",
       "    *   **Convenience:** Easy to use, often with automatic shut-off features.\n",
       "    *   **Energy Efficiency (often):** Can be more energy-efficient than stovetop methods, especially if you only boil the amount of water you need.\n",
       "    *   **Temperature Control (some models):** Some kettles offer precise temperature settings, ideal for specific teas or coffees.\n",
       "    *   **Safety:** Many have safety features like automatic shut-off and cool-touch exteriors.\n",
       "*   **Cons:**\n",
       "    *   **Capacity:** Limited capacity compared to a large pot on the stovetop.\n",
       "    *   **Space:** Requires counter space.\n",
       "    *   **Dependence on Electricity:** Useless without power.\n",
       "\n",
       "**2. Stovetop (Pot or Kettle):**\n",
       "\n",
       "*   **Pros:**\n",
       "    *   **Capacity:** Can boil large quantities of water in a large pot.\n",
       "    *   **Versatility:** Can be used on gas, electric, or induction stovetops.\n",
       "    *   **No Dependence on Electricity (gas stovetop):** Works during power outages if you have a gas stove.\n",
       "    *   **No dedicated appliance:** You might already own a suitable pot.\n",
       "*   **Cons:**\n",
       "    *   **Speed:** Generally slower than electric kettles for smaller volumes.\n",
       "    *   **Energy Inefficiency:** Can be less energy-efficient than an electric kettle if you're boiling a small amount of water in a large pot.\n",
       "    *   **Requires Monitoring:** Needs to be watched to prevent boil-over.\n",
       "    *   **Uneven Heating (electric stovetops):** Some electric stovetops heat unevenly.\n",
       "\n",
       "**3. Microwave:**\n",
       "\n",
       "*   **Pros:**\n",
       "    *   **Speed (for small amounts):** Can be relatively quick for very small amounts of water (e.g., a cup).\n",
       "    *   **Convenience:** Easy to use.\n",
       "*   **Cons:**\n",
       "    *   **Uneven Heating:** Microwaves can heat water unevenly, potentially leading to superheating (water that's hotter than its boiling point but doesn't boil until disturbed, which can cause a sudden and dangerous burst of steam).\n",
       "    *   **Safety Concerns:** Superheating is a significant safety risk.\n",
       "    *   **Not Ideal for Large Amounts:** Not practical for boiling large volumes of water.\n",
       "    *   **Can Impart Taste:** Microwaving water in plastic containers can potentially leach chemicals into the water.\n",
       "    *   **Not efficient** Least efficient method.\n",
       "\n",
       "**Summary Table:**\n",
       "\n",
       "| Method            | Speed      | Capacity | Energy Efficiency | Convenience | Safety Concerns      | Best For                                |\n",
       "| ------------------ | ----------- | -------- | ------------------ | ------------ | --------------------- | ---------------------------------------- |\n",
       "| Electric Kettle   | Very Fast  | Low-Med  | High               | Very High  | Minimal (auto shutoff) | Small-medium quantities, daily use      |\n",
       "| Stovetop (Pot)    | Med-Slow    | High     | Low-Med            | Med         | Boil-over risk       | Large quantities, no electricity available |\n",
       "| Microwave         | Med (small) | Very Low | Low                | High         | Superheating         | Very small amounts (with caution)     |\n",
       "\n",
       "**Recommendations:**\n",
       "\n",
       "*   **For most everyday use (small to medium quantities):**  An electric kettle is generally the best combination of speed, convenience, and energy efficiency.\n",
       "*   **For large quantities (e.g., for pasta):** A large pot on the stovetop is the most practical option.\n",
       "*   **For emergency situations (power outage):** A stovetop (gas) is essential.\n",
       "*   **Avoid using the microwave:** Due to the risk of superheating, it's best to avoid using the microwave to boil water, especially if you have other options.\n",
       "\n",
       "**Important Considerations:**\n",
       "\n",
       "*   **Water Quality:** Regardless of the method, using filtered water can improve the taste and reduce mineral buildup in your kettle or pot.\n",
       "*   **Altitude:** At higher altitudes, water boils at a lower temperature. This doesn't affect the safety of the water, but it may slightly alter cooking times.\n",
       "*   **Purpose:** Consider the purpose of the boiled water. If you need precise temperature control for tea or coffee, an electric kettle with temperature settings is ideal. If you need to sanitize baby bottles, a stovetop pot with a good thermometer might be more suitable.\n"
      ],
      "text/plain": [
       "<IPython.core.display.Markdown object>"
      ]
     },
     "metadata": {},
     "output_type": "display_data"
    }
   ],
   "source": [
    "prompt = \"What's the best method of boiling water?\"\n",
    "\n",
    "response = client.models.generate_content(model=MODEL_ID, contents=prompt)\n",
    "display(Markdown(response.text))"
   ]
  },
  {
   "cell_type": "code",
   "execution_count": 20,
   "metadata": {
    "id": "KwUzhud4aA89",
    "tags": []
   },
   "outputs": [
    {
     "data": {
      "text/markdown": [
       "The sky appears blue due to a phenomenon called **Rayleigh scattering**. Here's a breakdown of the process:\n",
       "\n",
       "*   **Sunlight and its Colors:** Sunlight is actually made up of all the colors of the rainbow.\n",
       "\n",
       "*   **Entering the Atmosphere:** When sunlight enters Earth's atmosphere, it collides with tiny air molecules (mostly nitrogen and oxygen).\n",
       "\n",
       "*   **Scattering:** This collision causes the sunlight to scatter in different directions.\n",
       "\n",
       "*   **Wavelength and Scattering:** The amount of scattering depends on the wavelength (color) of the light. Shorter wavelengths (blue and violet) are scattered much more strongly than longer wavelengths (red and orange). This is because Rayleigh scattering is inversely proportional to the fourth power of the wavelength (1/λ⁴).\n",
       "\n",
       "*   **Why Blue and Not Violet?** Although violet is scattered even more than blue, the sun emits less violet light, and our eyes are also less sensitive to violet. Therefore, the dominant color we see is blue.\n",
       "\n",
       "*   **The Result:** The blue light is scattered throughout the atmosphere, making the sky appear blue from our perspective on the ground.\n",
       "\n",
       "**In simpler terms:**\n",
       "\n",
       "Imagine throwing a bunch of small balls (light particles) at different sized objects (air molecules). The smaller balls (blue light) are more easily bounced around in all directions, while the larger balls (red light) are less affected. This is why we see blue light coming from all parts of the sky.\n",
       "\n",
       "**What about sunsets?**\n",
       "\n",
       "At sunrise and sunset, the sunlight has to travel through more of the atmosphere to reach us. This means that most of the blue light has already been scattered away, leaving the longer wavelengths like red and orange to dominate the sky.\n"
      ],
      "text/plain": [
       "<IPython.core.display.Markdown object>"
      ]
     },
     "metadata": {},
     "output_type": "display_data"
    }
   ],
   "source": [
    "prompt = \"Why is the sky blue?\"\n",
    "\n",
    "response = client.models.generate_content(model=MODEL_ID, contents=prompt)\n",
    "display(Markdown(response.text))"
   ]
  },
  {
   "cell_type": "markdown",
   "metadata": {
    "id": "PJIL2RTQaGcT"
   },
   "source": [
    "### Watch out for hallucinations"
   ]
  },
  {
   "cell_type": "markdown",
   "metadata": {
    "id": "8Y8kYxrSaHE9"
   },
   "source": [
    "Although LLMs have been trained on a large amount of data, they can generate text containing statements not grounded in truth or reality; these responses from the LLM are often referred to as \"hallucinations\" due to their limited memorization capabilities. Note that simply prompting the LLM to provide a citation isn't a fix to this problem, as there are instances of LLMs providing false or inaccurate citations. Dealing with hallucinations is a fundamental challenge of LLMs and an ongoing research area, so it is important to be cognizant that LLMs may seem to give you confident, correct-sounding statements that are in fact incorrect.\n",
    "\n",
    "Note that if you intend to use LLMs for the creative use cases, hallucinating could actually be quite useful."
   ]
  },
  {
   "cell_type": "markdown",
   "metadata": {
    "id": "8NY5nAGeaJYS"
   },
   "source": [
    "Try the prompt like the one below repeatedly. We set the temperature to `1.0` so that it takes more risks in its choices. It's possible that it may provide an inaccurate, but confident answer."
   ]
  },
  {
   "cell_type": "code",
   "execution_count": 17,
   "metadata": {
    "id": "QALPjEILaM62",
    "tags": []
   },
   "outputs": [
    {
     "data": {
      "text/markdown": [
       "Today is Wednesday, May 15, 2024.\n"
      ],
      "text/plain": [
       "<IPython.core.display.Markdown object>"
      ]
     },
     "metadata": {},
     "output_type": "display_data"
    }
   ],
   "source": [
    "generation_config = GenerateContentConfig(temperature=1.0)\n",
    "\n",
    "prompt = \"What day is it today?\"\n",
    "\n",
    "response = client.models.generate_content(model=MODEL_ID, contents=prompt)\n",
    "display(Markdown(response.text))"
   ]
  },
  {
   "cell_type": "markdown",
   "metadata": {
    "id": "BRkwzbgRbhKt"
   },
   "source": [
    "Since LLMs do not have access to real-time information without further integrations, you may have noticed it hallucinates what day it is today in some of the outputs."
   ]
  },
  {
   "cell_type": "markdown",
   "metadata": {
    "id": "3c811e310d02"
   },
   "source": [
    "### Using system instructions to guardrail the model from irrelevant responses\n",
    "\n",
    "How can we attempt to reduce the chances of irrelevant responses and hallucinations?\n",
    "\n",
    "One way is to provide the LLM with [system instructions](https://cloud.google.com/vertex-ai/generative-ai/docs/multimodal/send-chat-prompts-gemini#system-instructions).\n",
    "\n",
    "Let's see how system instructions works and how you can use them to reduce hallucinations or irrelevant questions for a travel chatbot.\n",
    "\n",
    "Suppose we ask a simple question about one of Italy's most famous tourist spots."
   ]
  },
  {
   "cell_type": "code",
   "execution_count": null,
   "metadata": {
    "id": "rB6zJU76biFK"
   },
   "outputs": [],
   "source": [
    "generation_config = GenerateContentConfig(temperature=1.0)\n",
    "\n",
    "chat = client.chats.create(\n",
    "    model=MODEL_ID,\n",
    "    config=GenerateContentConfig(\n",
    "        system_instruction=[\n",
    "            \"Hello! You are an AI chatbot for a travel web site.\",\n",
    "            \"Your mission is to provide helpful queries for travelers.\",\n",
    "            \"Remember that before you answer a question, you must check to see if it complies with your mission.\",\n",
    "            \"If not, you can say, Sorry I can't answer that question.\",\n",
    "        ]\n",
    "    ),\n",
    ")\n",
    "\n",
    "prompt = \"What is the best place for sightseeing in Milan, Italy?\"\n",
    "\n",
    "response = chat.send_message(prompt)\n",
    "display(Markdown(response.text))"
   ]
  },
  {
   "cell_type": "markdown",
   "metadata": {
    "id": "WZa-Qcf9cF4A"
   },
   "source": [
    "Now let us pretend to be a user asks the chatbot a question that is unrelated to travel."
   ]
  },
  {
   "cell_type": "code",
   "execution_count": null,
   "metadata": {
    "id": "AZKBIDr2cGnu"
   },
   "outputs": [],
   "source": [
    "prompt = \"What is the best place for sightseeing in Milan, Italy?\"\n",
    "\n",
    "response = chat.send_message(prompt)\n",
    "display(Markdown(response.text))"
   ]
  },
  {
   "cell_type": "markdown",
   "metadata": {
    "id": "JiUYIhwpctCy"
   },
   "source": [
    "You can see that this way, a guardrail in the prompt prevented the chatbot from veering off course."
   ]
  },
  {
   "cell_type": "markdown",
   "metadata": {
    "id": "ZuuDhA37cvmP"
   },
   "source": [
    "### Turn generative tasks into classification tasks to reduce output variability"
   ]
  },
  {
   "cell_type": "markdown",
   "metadata": {
    "id": "kUCUrsUzczmb"
   },
   "source": [
    "#### Generative tasks lead to higher output variability"
   ]
  },
  {
   "cell_type": "markdown",
   "metadata": {
    "id": "a1xASHAkc46n"
   },
   "source": [
    "The prompt below results in an open-ended response, useful for brainstorming, but response is highly variable."
   ]
  },
  {
   "cell_type": "code",
   "execution_count": 21,
   "metadata": {
    "id": "nPfXQWIacwRf",
    "tags": []
   },
   "outputs": [
    {
     "data": {
      "text/markdown": [
       "Okay, here's a breakdown of a programming activity that's well-suited for high school students looking to improve their skills, along with considerations for different skill levels and interests:\n",
       "\n",
       "**The Activity:  Build a Text-Based Adventure Game**\n",
       "\n",
       "This project is great because:\n",
       "\n",
       "*   **Scalable Complexity:**  You can make it as simple or as complex as you want.  Start with a very basic game, and then add features as you improve.\n",
       "*   **Variety of Skills:**  It touches on fundamental programming concepts like variables, conditional statements (if/else), loops, functions (or methods), input/output, and data structures (lists, dictionaries).\n",
       "*   **Creative Outlet:**  You get to design the story, the characters, the puzzles, and the overall game world.\n",
       "*   **Tangible Result:**  You end up with a playable game that you can show off.\n",
       "*   **Good Practice:** It forces you to solve problems in a logical and structured way.\n",
       "*   **Fun!** It's more engaging than abstract exercises.\n",
       "\n",
       "**Steps to Get Started:**\n",
       "\n",
       "1.  **Choose a Programming Language:**\n",
       "\n",
       "    *   **Python:**  Excellent for beginners.  It's readable, has a large community, and lots of tutorials available.\n",
       "    *   **JavaScript:** Good for web development, if you have some experience already.\n",
       "\n",
       "2.  **Outline Your Game:**\n",
       "\n",
       "    *   **Story:**  What's the basic plot?  (e.g., You're a knight trying to rescue a princess, a space explorer searching for a lost artifact, etc.)\n",
       "    *   **Setting:**  Where does the game take place?  (A medieval castle, a futuristic spaceship, a haunted house, etc.)\n",
       "    *   **Goal:** What does the player need to achieve to win?\n",
       "    *   **Rooms/Locations:**  Plan out the different areas the player can visit.  Give each room a name and a description.\n",
       "    *   **Items:**  What items will the player find and use?\n",
       "    *   **Characters (NPCs):**  Are there any characters the player can interact with?\n",
       "    *   **Puzzles/Challenges:**  What obstacles will the player face?\n",
       "\n",
       "3.  **Break Down the Code:**\n",
       "\n",
       "    *   **Start with the simplest possible version:**  A single room, a basic description, and a way to exit.\n",
       "    *   **Expand one feature at a time:**\n",
       "        *   **Input and Output:**  Get player input (e.g., \"go north\", \"take sword\") and display text.\n",
       "        *   **Room Descriptions:**  Display a description of the current room whenever the player enters it.\n",
       "        *   **Movement:**  Allow the player to move between rooms using commands like \"north\", \"south\", \"east\", \"west\".\n",
       "        *   **Inventory:**  Let the player pick up and carry items.\n",
       "        *   **Item Use:**  Implement commands like \"use sword\", \"examine key\".\n",
       "        *   **NPC Interaction:**  Allow the player to talk to characters and get information.\n",
       "        *   **Combat (Optional):**  If you want to add combat, you'll need to implement some simple game mechanics (e.g., attack points, hit points).\n",
       "        *   **Puzzles:** Create riddles or challenges that the player needs to solve to progress.\n",
       "\n",
       "**Example (Python - Very Basic):**\n",
       "\n",
       "```python\n",
       "def start_game():\n",
       "    print(\"You are standing in a dark forest.\")\n",
       "    print(\"There is a path to the north and a path to the east.\")\n",
       "\n",
       "    choice = input(\"Which way do you go? (north/east): \").lower()\n",
       "\n",
       "    if choice == \"north\":\n",
       "        print(\"You encounter a bear!  It eats you.  Game Over.\")\n",
       "    elif choice == \"east\":\n",
       "        print(\"You find a hidden treasure chest! You win!\")\n",
       "    else:\n",
       "        print(\"Invalid choice.\")\n",
       "\n",
       "start_game()\n",
       "```\n",
       "\n",
       "**How to Make it More Challenging (Adding Complexity):**\n",
       "\n",
       "*   **Data Structures:** Use dictionaries to store room information (description, exits, items).  Use lists to represent the player's inventory.\n",
       "*   **Functions:** Break your code into functions to make it more organized and reusable.  For example, a function to handle player movement, a function to handle item use, etc.\n",
       "*   **Object-Oriented Programming (OOP):**  If you're familiar with OOP, create classes for Rooms, Items, Characters, etc.  This makes the code more modular and easier to maintain.\n",
       "*   **More Complex Puzzles:** Design puzzles that require the player to use multiple items or solve a series of steps.\n",
       "*   **Non-Linear Gameplay:**  Allow the player to explore the game world in different orders.\n",
       "*   **Scoring/Achievements:** Add a scoring system or achievements to give the player more goals to strive for.\n",
       "*   **Graphics (If You're Feeling Ambitious):**  Use a library like Pygame (Python) or p5.js (JavaScript) to add graphics to your game.  This will significantly increase the complexity of the project.\n",
       "\n",
       "**Tips for Success:**\n",
       "\n",
       "*   **Start Small:**  Don't try to build the entire game at once.  Focus on getting the basic mechanics working first.\n",
       "*   **Test Frequently:**  Test your code as you write it.  This will help you catch errors early.\n",
       "*   **Use Comments:**  Write comments in your code to explain what it does.  This will make it easier to understand and maintain.\n",
       "*   **Break Down Problems:**  If you get stuck, try breaking the problem down into smaller, more manageable parts.\n",
       "*   **Google is Your Friend:**  Don't be afraid to search for solutions online.  There are tons of resources available to help you.\n",
       "*   **Ask for Help:**  If you're still stuck, ask a teacher, a friend, or someone online for help.\n",
       "*   **Have Fun!**  Programming should be enjoyable.  Choose a project that you're interested in and that you'll be motivated to complete.\n",
       "\n",
       "**Adapting to Different Skill Levels:**\n",
       "\n",
       "*   **Beginner:** Focus on the simplest possible version of the game.  Don't worry about complex data structures or OOP. Just get the basic input/output and movement working.\n",
       "*   **Intermediate:**  Start using data structures like dictionaries and lists.  Break your code into functions.  Implement more complex puzzles and challenges.\n",
       "*   **Advanced:**  Use OOP to create classes for different game elements.  Add graphics or sound.  Implement a more sophisticated combat system.  Explore more advanced game design concepts.\n",
       "\n",
       "**Other Project Ideas (If Text Adventure Isn't Your Thing):**\n",
       "\n",
       "*   **Simple Calculator:**  A command-line calculator that can perform basic arithmetic operations.\n",
       "*   **Number Guessing Game:**  The computer picks a random number, and the player tries to guess it.\n",
       "*   **Simple To-Do List App:**  A program that allows the user to add, remove, and view items on a to-do list.\n",
       "*   **Web Scraper:**  A program that extracts data from a website.\n",
       "*   **Basic Chatbot:**  A program that can respond to simple questions or commands.\n",
       "\n",
       "No matter which project you choose, the key is to pick something that interests you, start small, and gradually increase the complexity as you improve your skills. Good luck and have fun!\n"
      ],
      "text/plain": [
       "<IPython.core.display.Markdown object>"
      ]
     },
     "metadata": {},
     "output_type": "display_data"
    }
   ],
   "source": [
    "prompt = \"I'm a high school student. Recommend me a programming activity to improve my skills.\"\n",
    "\n",
    "response = client.models.generate_content(model=MODEL_ID, contents=prompt)\n",
    "display(Markdown(response.text))"
   ]
  },
  {
   "cell_type": "markdown",
   "metadata": {
    "id": "iAmm9wPYc_1o"
   },
   "source": [
    "#### Classification tasks reduces output variability"
   ]
  },
  {
   "cell_type": "markdown",
   "metadata": {
    "id": "VvRpK_0GdCpf"
   },
   "source": [
    "The prompt below results in a choice and may be useful if you want the output to be easier to control."
   ]
  },
  {
   "cell_type": "code",
   "execution_count": 22,
   "metadata": {
    "id": "kYDKh0r2dAqo",
    "tags": []
   },
   "outputs": [
    {
     "data": {
      "text/markdown": [
       "Okay, as a high school student looking to learn a programming language, here's my recommendation and reasoning:\n",
       "\n",
       "**Recommendation: Learn Python**\n",
       "\n",
       "**Why Python is the best choice for you right now:**\n",
       "\n",
       "*   **Beginner-Friendly Syntax:** Python is known for its clear, readable, and relatively simple syntax. It's designed to be easy to learn, especially for beginners. You'll spend less time wrestling with syntax and more time understanding programming concepts.\n",
       "*   **Wide Range of Applications:** Python is incredibly versatile. You can use it for:\n",
       "    *   **Web development (backend):** Building server-side logic for websites and applications (using frameworks like Django or Flask).\n",
       "    *   **Data science and machine learning:** Analyzing data, creating visualizations, building machine learning models (using libraries like NumPy, Pandas, Scikit-learn). This is a very hot field right now.\n",
       "    *   **Scripting and automation:** Automating tasks on your computer, like renaming files, organizing folders, or sending emails.\n",
       "    *   **Game development:**  Creating simple games (using libraries like Pygame).\n",
       "    *   **General-purpose programming:** Building a wide variety of applications.\n",
       "*   **Large and Supportive Community:** Python has a huge and active community. This means:\n",
       "    *   **Tons of online resources:** Tutorials, documentation, Stack Overflow answers, etc. It's easy to find help when you get stuck.\n",
       "    *   **Plenty of libraries and frameworks:** Libraries provide pre-written code for common tasks, saving you time and effort. Frameworks provide a structure for building more complex applications.\n",
       "*   **Good for High School Coursework:** Many high school computer science courses use Python. Learning it will give you a head start in your classes.\n",
       "\n",
       "**Why not JavaScript or Fortran?**\n",
       "\n",
       "*   **JavaScript (Good, but not the BEST starting point):**\n",
       "    *   **Primary use is web development (front-end and back-end):**  JavaScript is essential for making websites interactive (front-end) and can also be used for server-side development (back-end) with Node.js.\n",
       "    *   **Steeper learning curve (initially):** JavaScript has some quirks and can be more challenging for a complete beginner to grasp initially compared to Python.  You'll encounter concepts like the DOM (Document Object Model) and asynchronous programming sooner, which can be confusing.\n",
       "    *   **You *will* need JavaScript eventually:** If you plan to do web development, learning JavaScript is a must. But it's often better to start with a more gentle language like Python to build your fundamental programming skills first.  You can always learn JavaScript later.\n",
       "*   **Fortran (Niche and Outdated for General Use):**\n",
       "    *   **Specialized for scientific and engineering computing:** Fortran is still used in these fields for high-performance numerical calculations and simulations.\n",
       "    *   **Not widely used for general-purpose programming:** Outside of its niche, Fortran is rarely used. It's not a good choice for learning general programming concepts or building modern applications.\n",
       "    *   **Limited job opportunities (outside of specific fields):**  Job opportunities for Fortran programmers are much more limited than for Python or JavaScript programmers.\n",
       "\n",
       "**In summary:**\n",
       "\n",
       "Python is the best choice for a high school student due to its ease of learning, versatility, large community, and applicability to many fields. It will provide you with a strong foundation in programming concepts that you can then build upon to learn other languages later if you choose.\n",
       "\n",
       "**Next Steps:**\n",
       "\n",
       "1.  **Install Python:** Download and install the latest version of Python from the official Python website ([https://www.python.org/downloads/](https://www.python.org/downloads/)).\n",
       "2.  **Choose a Code Editor:** Select a code editor or IDE (Integrated Development Environment) to write your code. Popular choices include:\n",
       "    *   VS Code (free, popular, and versatile)\n",
       "    *   Thonny (simple, beginner-friendly)\n",
       "    *   IDLE (comes with Python)\n",
       "    *   Repl.it (online, no installation required)\n",
       "3.  **Start Learning:**\n",
       "    *   **Online Tutorials:** Codecademy, Coursera, edX, freeCodeCamp, and YouTube are great resources.\n",
       "    *   **Books:** \"Python Crash Course\" by Eric Matthes is a popular beginner-friendly book.\n",
       "    *   **Practice Regularly:** The key to learning programming is to practice consistently. Work on small projects to apply what you've learned.\n",
       "\n",
       "Good luck with your programming journey!\n"
      ],
      "text/plain": [
       "<IPython.core.display.Markdown object>"
      ]
     },
     "metadata": {},
     "output_type": "display_data"
    }
   ],
   "source": [
    "prompt = \"\"\"I'm a high school student. Which of these activities do you suggest and why:\n",
    "a) learn Python\n",
    "b) learn JavaScript\n",
    "c) learn Fortran\n",
    "\"\"\"\n",
    "\n",
    "response = client.models.generate_content(model=MODEL_ID, contents=prompt)\n",
    "display(Markdown(response.text))"
   ]
  },
  {
   "cell_type": "markdown",
   "metadata": {
    "id": "iTd60b1GdIsx"
   },
   "source": [
    "### Improve response quality by including examples"
   ]
  },
  {
   "cell_type": "markdown",
   "metadata": {
    "id": "yJi44NejdJYE"
   },
   "source": [
    "Another way to improve response quality is to add examples in your prompt. The LLM learns in-context from the examples on how to respond. Typically, one to five examples (shots) are enough to improve the quality of responses. Including too many examples can cause the model to over-fit the data and reduce the quality of responses.\n",
    "\n",
    "Similar to classical model training, the quality and distribution of the examples is very important. Pick examples that are representative of the scenarios that you need the model to learn, and keep the distribution of the examples (e.g. number of examples per class in the case of classification) aligned with your actual distribution."
   ]
  },
  {
   "cell_type": "markdown",
   "metadata": {
    "id": "sMbLginWdOKs"
   },
   "source": [
    "#### Zero-shot prompt"
   ]
  },
  {
   "cell_type": "markdown",
   "metadata": {
    "id": "Crh2Loi2dQ0v"
   },
   "source": [
    "Below is an example of zero-shot prompting, where you don't provide any examples to the LLM within the prompt itself."
   ]
  },
  {
   "cell_type": "code",
   "execution_count": 23,
   "metadata": {
    "id": "-7myRc-SdTQ4",
    "tags": []
   },
   "outputs": [
    {
     "data": {
      "text/markdown": [
       "Sentiment: Positive\n"
      ],
      "text/plain": [
       "<IPython.core.display.Markdown object>"
      ]
     },
     "metadata": {},
     "output_type": "display_data"
    }
   ],
   "source": [
    "prompt = \"\"\"Decide whether a Tweet's sentiment is positive, neutral, or negative.\n",
    "\n",
    "Tweet: I loved the new YouTube video you made!\n",
    "Sentiment:\n",
    "\"\"\"\n",
    "\n",
    "response = client.models.generate_content(model=MODEL_ID, contents=prompt)\n",
    "display(Markdown(response.text))"
   ]
  },
  {
   "cell_type": "markdown",
   "metadata": {
    "id": "ucRtPn9SdL64"
   },
   "source": [
    "#### One-shot prompt"
   ]
  },
  {
   "cell_type": "markdown",
   "metadata": {
    "id": "rs0gQH2vdYBi"
   },
   "source": [
    "Below is an example of one-shot prompting, where you provide one example to the LLM within the prompt to give some guidance on what type of response you want."
   ]
  },
  {
   "cell_type": "code",
   "execution_count": 24,
   "metadata": {
    "id": "iEq-KxGYdaT5",
    "tags": []
   },
   "outputs": [
    {
     "data": {
      "text/markdown": [
       "Sentiment: negative\n"
      ],
      "text/plain": [
       "<IPython.core.display.Markdown object>"
      ]
     },
     "metadata": {},
     "output_type": "display_data"
    }
   ],
   "source": [
    "prompt = \"\"\"Decide whether a Tweet's sentiment is positive, neutral, or negative.\n",
    "\n",
    "Tweet: I loved the new YouTube video you made!\n",
    "Sentiment: positive\n",
    "\n",
    "Tweet: That was awful. Super boring 😠\n",
    "Sentiment:\n",
    "\"\"\"\n",
    "\n",
    "response = client.models.generate_content(model=MODEL_ID, contents=prompt)\n",
    "display(Markdown(response.text))"
   ]
  },
  {
   "cell_type": "markdown",
   "metadata": {
    "id": "JnKLjJzmdfL_"
   },
   "source": [
    "#### Few-shot prompt"
   ]
  },
  {
   "cell_type": "markdown",
   "metadata": {
    "id": "6Zv-9F5OdgI_"
   },
   "source": [
    "Below is an example of few-shot prompting, where you provide a few examples to the LLM within the prompt to give some guidance on what type of response you want."
   ]
  },
  {
   "cell_type": "code",
   "execution_count": 25,
   "metadata": {
    "id": "u37P9tG4dk9S",
    "tags": []
   },
   "outputs": [
    {
     "data": {
      "text/markdown": [
       "Sentiment: positive\n"
      ],
      "text/plain": [
       "<IPython.core.display.Markdown object>"
      ]
     },
     "metadata": {},
     "output_type": "display_data"
    }
   ],
   "source": [
    "prompt = \"\"\"Decide whether a Tweet's sentiment is positive, neutral, or negative.\n",
    "\n",
    "Tweet: I loved the new YouTube video you made!\n",
    "Sentiment: positive\n",
    "\n",
    "Tweet: That was awful. Super boring 😠\n",
    "Sentiment: negative\n",
    "\n",
    "Tweet: Something surprised me about this video - it was actually original. It was not the same old recycled stuff that I always see. Watch it - you will not regret it.\n",
    "Sentiment:\n",
    "\"\"\"\n",
    "\n",
    "response = client.models.generate_content(model=MODEL_ID, contents=prompt)\n",
    "display(Markdown(response.text))"
   ]
  },
  {
   "cell_type": "markdown",
   "metadata": {
    "id": "wDMD3xb2dvX6"
   },
   "source": [
    "#### Choosing between zero-shot, one-shot, few-shot prompting methods"
   ]
  },
  {
   "cell_type": "markdown",
   "metadata": {
    "id": "s92W0YpNdxJp"
   },
   "source": [
    "Which prompt technique to use will solely depends on your goal. The zero-shot prompts are more open-ended and can give you creative answers, while one-shot and few-shot prompts teach the model how to behave so you can get more predictable answers that are consistent with the examples provided."
   ]
  }
 ],
 "metadata": {
  "colab": {
   "name": "intro_prompt_design.ipynb",
   "toc_visible": true
  },
  "environment": {
   "kernel": "conda-base-py",
   "name": "workbench-notebooks.m129",
   "type": "gcloud",
   "uri": "us-docker.pkg.dev/deeplearning-platform-release/gcr.io/workbench-notebooks:m129"
  },
  "kernelspec": {
   "display_name": "Python 3 (ipykernel) (Local)",
   "language": "python",
   "name": "conda-base-py"
  },
  "language_info": {
   "codemirror_mode": {
    "name": "ipython",
    "version": 3
   },
   "file_extension": ".py",
   "mimetype": "text/x-python",
   "name": "python",
   "nbconvert_exporter": "python",
   "pygments_lexer": "ipython3",
   "version": "3.10.16"
  }
 },
 "nbformat": 4,
 "nbformat_minor": 4
}
